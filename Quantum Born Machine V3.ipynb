{
 "cells": [
  {
   "cell_type": "code",
   "execution_count": 2,
   "metadata": {},
   "outputs": [],
   "source": [
    "import numpy as np\n",
    "import time\n",
    "from qiskit import ClassicalRegister, QuantumRegister, QuantumCircuit, execute, Aer\n",
    "from qiskit.visualization import plot_histogram\n",
    "from qiskit.aqua import Operator, run_algorithm\n",
    "\n",
    "import random\n",
    "from math import log, pi"
   ]
  },
  {
   "cell_type": "code",
   "execution_count": 3,
   "metadata": {},
   "outputs": [],
   "source": [
    "# Use Aer's qasm_simulator\n",
    "backend = Aer.get_backend('qasm_simulator')"
   ]
  },
  {
   "cell_type": "code",
   "execution_count": 23,
   "metadata": {},
   "outputs": [],
   "source": [
    "# Define layer of quantum circuit.\n",
    "# For now let's just parameterize the single qubit gates\n",
    "\n",
    "def rotations(circ, q, n, rotation_params):\n",
    "    for i in range(n):\n",
    "        circ.u3(rotation_params[2*i], rotation_params[2*i+1], 0, q[i])\n",
    "\n",
    "def FC(circ, q, n, FC_params):\n",
    "    k = 0\n",
    "    for i in range(n):\n",
    "        for j in range(n):\n",
    "            if i != j:\n",
    "                circ.crz(FC_params[k], q[i], q[j])\n",
    "                k += 1\n",
    "                \n",
    "def layer(circ, q, n, params):\n",
    "    rotation_params = params[:2*n]\n",
    "    FC_params = params[2*n : 2*n + n*(n-1)]\n",
    "    rotations(circ, q, n, rotation_params)\n",
    "    FC(circ, q, n, FC_params)\n",
    "    return circ"
   ]
  },
  {
   "cell_type": "code",
   "execution_count": 52,
   "metadata": {},
   "outputs": [],
   "source": [
    "# function for creating a target distribution\n",
    "\n",
    "def get_target():\n",
    "    d ={\n",
    "    '0000': 1/8,\n",
    "    '0110': 1/4,\n",
    "    '1001': 1/4,\n",
    "    '0101': 1/8,\n",
    "    '1010': 1/8,\n",
    "    '1111': 1/8}\n",
    "    return d\n",
    "\n",
    "# def get_target():\n",
    "#     d ={\n",
    "#     '000': 1/4,\n",
    "#     '010': 1/4,\n",
    "#     '101': 1/4,\n",
    "#     '111': 1/4  }\n",
    "#     return d\n",
    "\n",
    "# define the cost function, here being the KL divergence between the target and learned distributions\n",
    "def get_cost(target, learned, shots):\n",
    "    epsilon = 0.01\n",
    "    cost = 0\n",
    "    \n",
    "    for key in learned:\n",
    "        learned[key] /= shots     # normalize counts from measurements\n",
    "        \n",
    "    for key in target:\n",
    "        if key not in learned:      \n",
    "            learned[key] = 0         # adds any necessary keys to learned for which we got no counts        \n",
    "        \n",
    "        if target[key] != 0:\n",
    "            cost += target[key]*(log(target[key]) - log(max(epsilon, learned[key])))\n",
    "    \n",
    "    return cost\n",
    "\n",
    "def costFunc(n, params, shots):\n",
    "    learned = run_circuit(n, params, shots)\n",
    "    target = get_target()\n",
    "    cost = get_cost(target, learned, shots)\n",
    "    \n",
    "    return cost\n",
    "\n",
    "def run_circuit(n, params, shots):\n",
    "    q = QuantumRegister(n)                  #can these be initialized outside the function?\n",
    "    c = ClassicalRegister(n)\n",
    "    circ = QuantumCircuit(q, c)\n",
    "    \n",
    "    num_params = len(params)\n",
    "    num_perlayer = 2*n+n*(n-1)\n",
    "    num_layers = int(num_params/num_perlayer)\n",
    "    \n",
    "    for k in range(num_layers):\n",
    "        circ = layer(circ, q, n, params[num_perlayer*k : num_perlayer*(k+1)])\n",
    "    \n",
    "    for i in range(n):\n",
    "        circ.measure(q[i], c[i])\n",
    "    result = execute(circ, backend = backend, shots = shots)\n",
    "    learned = result.result().get_counts(circ)\n",
    "    \n",
    "    return learned\n",
    "\n",
    "def hist(n, params, shots):\n",
    "    learned = run_circuit(n, params, shots)\n",
    "    plot_histogram(learned)"
   ]
  },
  {
   "cell_type": "code",
   "execution_count": 25,
   "metadata": {},
   "outputs": [],
   "source": [
    "# Particle swarm optimizer\n",
    "\n",
    "class Particle:\n",
    "    def __init__(self,x0):\n",
    "        self.position_i=[]          # particle position\n",
    "        self.velocity_i=[]          # particle velocity\n",
    "        self.pos_best_i=[]          # best position individual\n",
    "        self.err_best_i=-1          # best error individual\n",
    "        self.err_i=-1               # error individual\n",
    "\n",
    "        for i in range(0,num_dimensions):\n",
    "            self.velocity_i.append(random.uniform(-0.25,0.25))\n",
    "            self.position_i.append(x0[i])\n",
    "\n",
    "    # evaluate current fitness\n",
    "    def evaluate(self, n, costFunc, shots):\n",
    "        self.err_i=costFunc(n, self.position_i, shots)\n",
    "\n",
    "        # check to see if the current position is an individual best\n",
    "        if self.err_i < self.err_best_i or self.err_best_i==-1:\n",
    "            self.pos_best_i=self.position_i\n",
    "            self.err_best_i=self.err_i\n",
    "\n",
    "    # update new particle velocity\n",
    "    def update_velocity(self,pos_best_g):\n",
    "        w=0.75       # constant inertia weight (how much to weigh the previous velocity)\n",
    "        c1=2        # cognative constant\n",
    "        c2=2        # social constant\n",
    "        \n",
    "        for i in range(0,num_dimensions):\n",
    "            r1=random.random()\n",
    "            r2=random.random()\n",
    "            \n",
    "            # We need to account for the fact that parameters are angles\n",
    "            dist_cog = self.pos_best_i[i]-self.position_i[i]\n",
    "            if dist_cog > pi:\n",
    "                dist_cog -= 2*pi\n",
    "            if dist_cog < -pi:\n",
    "                dist_cog += 2*pi\n",
    "                \n",
    "            dist_soc = pos_best_g[i] - self.position_i[i]\n",
    "            if dist_soc > pi:\n",
    "                dist_soc -= 2*pi\n",
    "            if dist_soc < -pi:\n",
    "                dist_soc += 2*pi\n",
    "\n",
    "            vel_cognitive=c1*r1*dist_cog\n",
    "            vel_social=c2*r2*dist_soc\n",
    "            self.velocity_i[i]=w*self.velocity_i[i]+vel_cognitive+vel_social\n",
    "\n",
    "    # update the particle position based off new velocity updates\n",
    "    def update_position(self):\n",
    "        for i in range(0,num_dimensions):\n",
    "            self.position_i[i]=self.position_i[i]+self.velocity_i[i]\n",
    "\n",
    "            #account for particles crossing the 0=2pi line\n",
    "            if self.position_i[i] > 2*pi:\n",
    "                self.position_i[i] -= 2*pi\n",
    "            \n",
    "            if self.position_i[i] < 0:\n",
    "                self.position_i[i] += 2*pi\n",
    "    \n",
    "                \n",
    "class PSO():\n",
    "    def __init__(self,n,shots,costFunc,x0,num_particles,maxiter):\n",
    "        global num_dimensions\n",
    "\n",
    "        num_dimensions=len(x0)\n",
    "        self.err_best_g=-1                   # best error for group\n",
    "        self.pos_best_g=[]                   # best position for group\n",
    "\n",
    "        # establish the swarm\n",
    "        swarm=[]\n",
    "        for i in range(0,num_particles):\n",
    "            swarm.append(Particle(x0))\n",
    "\n",
    "        # begin optimization loop\n",
    "        i=0\n",
    "        while i < maxiter:\n",
    "            # cycle through particles in swarm and evaluate fitness\n",
    "            for j in range(0,num_particles):\n",
    "                swarm[j].evaluate(n, costFunc, shots)\n",
    "\n",
    "                # determine if current particle is the best (globally)\n",
    "                if swarm[j].err_i < self.err_best_g or self.err_best_g == -1:\n",
    "                    self.pos_best_g=list(swarm[j].position_i)\n",
    "                    self.err_best_g=float(swarm[j].err_i)\n",
    "\n",
    "            # cycle through swarm and update velocities and position\n",
    "            for j in range(0,num_particles):\n",
    "                swarm[j].update_velocity(self.pos_best_g)\n",
    "                swarm[j].update_position()\n",
    "            i+=1\n",
    "            \n",
    "            if i%2 == 0:\n",
    "                print(\"Iteration %d: %f\" % (i, self.err_best_g))\n",
    "\n",
    "        # print final results\n",
    "        print('FINAL: %f' % self.err_best_g)\n",
    "        \n",
    "    \n",
    "    def best(self):\n",
    "        return self.pos_best_g\n",
    "        \n",
    "\n",
    "if __name__ == \"__PSO__\":\n",
    "    main()"
   ]
  },
  {
   "cell_type": "code",
   "execution_count": 43,
   "metadata": {},
   "outputs": [
    {
     "data": {
      "text/plain": [
       "array([0.05794764, 0.03093231, 0.19759252, 0.02495373, 0.17535175,\n",
       "       0.19084732, 0.19849364, 0.1238811 ])"
      ]
     },
     "execution_count": 43,
     "metadata": {},
     "output_type": "execute_result"
    }
   ],
   "source": [
    "n = 3\n",
    "\n",
    "distribution = np.random.rand(2**n)\n",
    "distribution /= sum(distribution)"
   ]
  },
  {
   "cell_type": "code",
   "execution_count": 55,
   "metadata": {},
   "outputs": [
    {
     "name": "stdout",
     "output_type": "stream",
     "text": [
      "Iteration 2: 1.455144\n",
      "Iteration 4: 1.005473\n",
      "Iteration 6: 0.910576\n",
      "Iteration 8: 0.748140\n",
      "Iteration 10: 0.620283\n",
      "Iteration 12: 0.480356\n",
      "Iteration 14: 0.446867\n",
      "Iteration 16: 0.446867\n",
      "Iteration 18: 0.409334\n",
      "Iteration 20: 0.409334\n",
      "Iteration 22: 0.357899\n",
      "Iteration 24: 0.345296\n",
      "Iteration 26: 0.345296\n",
      "Iteration 28: 0.342063\n",
      "Iteration 30: 0.342063\n",
      "FINAL: 0.342063\n"
     ]
    },
    {
     "data": {
      "image/png": "[encoded data removed]",
      "text/plain": [
       "<Figure size 504x360 with 1 Axes>"
      ]
     },
     "execution_count": 55,
     "metadata": {},
     "output_type": "execute_result"
    }
   ],
   "source": [
    "# Run optimization\n",
    "\n",
    "n = 4\n",
    "layers = 2\n",
    "shots = 1000   #shots per run of given circuit; larger will give better statistics from runs\n",
    "\n",
    "initial = np.random.normal(loc = pi, scale = pi/2, size=int((2*n+n*(n-1))*layers))\n",
    "\n",
    "best = PSO(n, shots, costFunc, initial, num_particles=35, maxiter=30).best()\n",
    "\n",
    "learned = run_circuit(n, best, shots)\n",
    "plot_histogram(learned)"
   ]
  },
  {
   "cell_type": "code",
   "execution_count": 45,
   "metadata": {},
   "outputs": [
    {
     "data": {
      "text/plain": [
       "[5.825485658621089,\n",
       " 1.0061536832215277,\n",
       " 5.966434979910295,\n",
       " 5.5860075175583725,\n",
       " 3.9509515594764384,\n",
       " 5.288695745751017]"
      ]
     },
     "execution_count": 45,
     "metadata": {},
     "output_type": "execute_result"
    }
   ],
   "source": [
    "best"
   ]
  },
  {
   "cell_type": "code",
   "execution_count": 95,
   "metadata": {},
   "outputs": [
    {
     "data": {
      "image/png": "[encoded data removed]",
      "text/plain": [
       "<Figure size 504x360 with 1 Axes>"
      ]
     },
     "execution_count": 95,
     "metadata": {},
     "output_type": "execute_result"
    }
   ],
   "source": [
    "params = [4.952183907076087, 5.366143366803098, 6.1802748069211395, 5.423623009334368, 5.277995751340181, 4.9934647678469295]\n",
    "learned = run_circuit(n, params, shots)\n",
    "plot_histogram(learned)"
   ]
  },
  {
   "cell_type": "code",
   "execution_count": 61,
   "metadata": {},
   "outputs": [
    {
     "data": {
      "text/plain": [
       "1"
      ]
     },
     "execution_count": 61,
     "metadata": {},
     "output_type": "execute_result"
    }
   ],
   "source": [
    "length = len(initial)\n",
    "layers = int(length/(2*n))\n",
    "layers"
   ]
  },
  {
   "cell_type": "code",
   "execution_count": 65,
   "metadata": {},
   "outputs": [
    {
     "data": {
      "text/plain": [
       "array([-0.35296714,  1.15942579, -2.63424782, -0.4158417 ,  0.4378306 ,\n",
       "        1.33024825])"
      ]
     },
     "execution_count": 65,
     "metadata": {},
     "output_type": "execute_result"
    }
   ],
   "source": [
    "n=3\n",
    "k=0\n",
    "initial"
   ]
  },
  {
   "cell_type": "code",
   "execution_count": 68,
   "metadata": {},
   "outputs": [
    {
     "data": {
      "text/plain": [
       "array([-0.35296714,  1.15942579, -2.63424782, -0.4158417 ,  0.4378306 ,\n",
       "        1.33024825])"
      ]
     },
     "execution_count": 68,
     "metadata": {},
     "output_type": "execute_result"
    }
   ],
   "source": [
    "initial[2*n*k : 2*n*(k+1)]"
   ]
  },
  {
   "cell_type": "code",
   "execution_count": 12,
   "metadata": {},
   "outputs": [
    {
     "data": {
      "text/plain": [
       "array([3.73713295, 1.38874119, 6.10784449, 2.61933382, 2.90899961,\n",
       "       1.6104816 , 0.5645431 , 3.64526496, 5.01625343, 3.81854169,\n",
       "       1.81478952, 4.33249133, 1.9373145 , 2.27683933, 2.51539909,\n",
       "       2.39408282, 2.9066666 , 6.15247194, 2.12938992, 1.23752138,\n",
       "       0.05655265, 4.08954131, 1.39456578, 3.58449922, 5.1360518 ,\n",
       "       4.63057067, 2.26695957])"
      ]
     },
     "execution_count": 12,
     "metadata": {},
     "output_type": "execute_result"
    }
   ],
   "source": [
    "n = 3\n",
    "layers = 3\n",
    "\n",
    "initial = np.random.normal(loc = pi, scale = pi/2, size=int((2*n+n*(n-1)/2)*layers))\n",
    "initial"
   ]
  },
  {
   "cell_type": "code",
   "execution_count": 13,
   "metadata": {},
   "outputs": [
    {
     "data": {
      "text/plain": [
       "array([3.73713295, 1.38874119, 6.10784449, 2.61933382, 2.90899961,\n",
       "       1.6104816 ])"
      ]
     },
     "execution_count": 13,
     "metadata": {},
     "output_type": "execute_result"
    }
   ],
   "source": [
    "initial[:6]"
   ]
  },
  {
   "cell_type": "code",
   "execution_count": 14,
   "metadata": {},
   "outputs": [
    {
     "data": {
      "text/plain": [
       "array([0.5645431])"
      ]
     },
     "execution_count": 14,
     "metadata": {},
     "output_type": "execute_result"
    }
   ],
   "source": [
    "initial[6:7]"
   ]
  },
  {
   "cell_type": "code",
   "execution_count": null,
   "metadata": {},
   "outputs": [],
   "source": []
  }
 ],
 "metadata": {
  "kernelspec": {
   "display_name": "Python [conda env:qiskit] *",
   "language": "python",
   "name": "conda-env-qiskit-py"
  },
  "language_info": {
   "codemirror_mode": {
    "name": "ipython",
    "version": 3
   },
   "file_extension": ".py",
   "mimetype": "text/x-python",
   "name": "python",
   "nbconvert_exporter": "python",
   "pygments_lexer": "ipython3",
   "version": "3.7.4"
  }
 },
 "nbformat": 4,
 "nbformat_minor": 2
}
