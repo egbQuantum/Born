{
 "cells": [
  {
   "cell_type": "code",
   "execution_count": 19,
   "metadata": {},
   "outputs": [],
   "source": [
    "import numpy as np\n",
    "import time\n",
    "from qiskit import ClassicalRegister, QuantumRegister, QuantumCircuit, execute, Aer\n",
    "from qiskit.visualization import plot_histogram\n",
    "from qiskit.aqua import Operator, run_algorithm\n",
    "\n",
    "import random\n",
    "from math import log, pi"
   ]
  },
  {
   "cell_type": "code",
   "execution_count": 20,
   "metadata": {},
   "outputs": [],
   "source": [
    "# Use Aer's qasm_simulator\n",
    "backend = Aer.get_backend('qasm_simulator')"
   ]
  },
  {
   "cell_type": "code",
   "execution_count": 21,
   "metadata": {},
   "outputs": [],
   "source": [
    "# Define layer of quantum circuit.\n",
    "# For now let's just parameterize the single qubit gates\n",
    "\n",
    "def rotations(circ, q, n, rotation_params):\n",
    "    for i in range(n):\n",
    "        circ.u3(rotation_params[2*i], rotation_params[2*i+1], 0, q[i])\n",
    "\n",
    "def FC(circ, q, n, FC_params):\n",
    "    k = 0\n",
    "    for i in range(n):\n",
    "        for j in range(n):\n",
    "            if i != j:\n",
    "                circ.crz(FC_params[k], q[i], q[j])\n",
    "                k += 1\n",
    "                \n",
    "def layer(circ, q, n, params):\n",
    "    rotation_params = params[:2*n]\n",
    "    FC_params = params[2*n : 2*n + n*(n-1)]\n",
    "    rotations(circ, q, n, rotation_params)\n",
    "    FC(circ, q, n, FC_params)\n",
    "    return circ"
   ]
  },
  {
   "cell_type": "code",
   "execution_count": 65,
   "metadata": {},
   "outputs": [],
   "source": [
    "# function for creating a target distribution\n",
    "\n",
    "def generate_bars_and_stripes(length, num_samples):\n",
    "    \"\"\" Creates a dataset containing samples showing bars or stripes.\n",
    "    :param length: Length of the bars/stripes.\n",
    "    :type length: int\n",
    "    :param num_samples: Number of samples\n",
    "    :type num_samples: int\n",
    "    :return: Samples.\n",
    "    :rtype: numpy array [num_samples, length*length]\n",
    "    \"\"\"\n",
    "    data = np.zeros((num_samples, length * length))\n",
    "    for i in range(num_samples):\n",
    "        values = np.dot(np.random.randint(low=0, high=2,\n",
    "                                              size=(length, 1)),\n",
    "                          np.ones((1, length)))\n",
    "        if np.random.random() > 0.5:\n",
    "            values = values.T\n",
    "        data[i, :] = values.reshape(length * length)\n",
    "    return data\n",
    "\n",
    "\n",
    "#def get_target():\n",
    "#    d ={\n",
    "#    '0000': 1/8,\n",
    "#    '0110': 1/4,\n",
    "#    '1001': 1/4,\n",
    "#    '0101': 1/8,\n",
    "#    '1010': 1/8,\n",
    "#    '1111': 1/8}\n",
    "#    return d\n",
    "\n",
    "def get_target(length, num_samples):\n",
    "    \n",
    "    target = {}\n",
    "    data = generate_bars_and_stripes(length, num_samples)\n",
    "    \n",
    "    for sample in data:\n",
    "        key = ''.join(map(str, [int(i) for i in sample]))\n",
    "        \n",
    "        if key not in target.keys():\n",
    "            target[key] = 1\n",
    "        else:\n",
    "            target[key] += 1\n",
    "    \n",
    "    # Normalize target distribution before returning\n",
    "    for key in target.keys():\n",
    "        target[key] /= num_samples\n",
    "    \n",
    "    return target\n",
    "    \n",
    "\n",
    "# define the cost function, here being the KL divergence between the target and learned distributions\n",
    "def get_cost(target, learned, shots):\n",
    "    epsilon = 0.01\n",
    "    cost = 0\n",
    "    \n",
    "    for key in learned:\n",
    "        learned[key] /= shots     # normalize counts from measurements\n",
    "        \n",
    "    for key in target:\n",
    "        if key not in learned:      \n",
    "            learned[key] = 0         # adds any necessary keys to learned for which we got no counts        \n",
    "        \n",
    "        if target[key] != 0:\n",
    "            cost += target[key]*(log(target[key]) - log(max(epsilon, learned[key])))\n",
    "    \n",
    "    return cost\n",
    "\n",
    "def costFunc(n, target, params, shots):\n",
    "    learned = run_circuit(n, params, shots)\n",
    "    cost = get_cost(target, learned, shots)\n",
    "    \n",
    "    return cost\n",
    "\n",
    "def run_circuit(n, params, shots):\n",
    "    q = QuantumRegister(n)                  #can these be initialized outside the function?\n",
    "    c = ClassicalRegister(n)\n",
    "    circ = QuantumCircuit(q, c)\n",
    "    \n",
    "    num_params = len(params)\n",
    "    num_perlayer = 2*n+n*(n-1)\n",
    "    num_layers = int(num_params/num_perlayer)\n",
    "    \n",
    "    for k in range(num_layers):\n",
    "        circ = layer(circ, q, n, params[num_perlayer*k : num_perlayer*(k+1)])\n",
    "    \n",
    "   # n_visible = 4\n",
    "    for i in range(n):\n",
    "        circ.measure(q[i], c[i])\n",
    "    result = execute(circ, backend = backend, shots = shots)\n",
    "    learned = result.result().get_counts(circ)\n",
    "    \n",
    "    return learned\n",
    "\n",
    "def hist(n, params, shots):\n",
    "    learned = run_circuit(n, params, shots)\n",
    "    plot_histogram(learned)"
   ]
  },
  {
   "cell_type": "code",
   "execution_count": 38,
   "metadata": {},
   "outputs": [
    {
     "data": {
      "text/plain": [
       "1000"
      ]
     },
     "execution_count": 38,
     "metadata": {},
     "output_type": "execute_result"
    }
   ],
   "source": [
    "data = generate_bars_and_stripes(length = 2, num_samples = 1000)\n",
    "len(data)"
   ]
  },
  {
   "cell_type": "code",
   "execution_count": 32,
   "metadata": {},
   "outputs": [
    {
     "data": {
      "text/plain": [
       "'0011'"
      ]
     },
     "execution_count": 32,
     "metadata": {},
     "output_type": "execute_result"
    }
   ],
   "source": [
    "sample = data[0]\n",
    "sample_int = ''.join(map(str, [int(i) for i in sample]))\n",
    "sample_int"
   ]
  },
  {
   "cell_type": "code",
   "execution_count": 37,
   "metadata": {},
   "outputs": [],
   "source": [
    "test = {}\n",
    "test['0'] = 0\n",
    "test['1'] = 1\n",
    "test['1'] += 1"
   ]
  },
  {
   "cell_type": "code",
   "execution_count": 26,
   "metadata": {},
   "outputs": [
    {
     "data": {
      "text/plain": [
       "'0.00.01.01.0'"
      ]
     },
     "execution_count": 26,
     "metadata": {},
     "output_type": "execute_result"
    }
   ],
   "source": [
    "''.join(map(str, data[0]))"
   ]
  },
  {
   "cell_type": "code",
   "execution_count": 61,
   "metadata": {},
   "outputs": [],
   "source": [
    "# Particle swarm optimizer\n",
    "\n",
    "class Particle:\n",
    "    def __init__(self,x0):\n",
    "        self.position_i=[]          # particle position\n",
    "        self.velocity_i=[]          # particle velocity\n",
    "        self.pos_best_i=[]          # best position individual\n",
    "        self.err_best_i=-1          # best error individual\n",
    "        self.err_i=-1               # error individual\n",
    "\n",
    "        for i in range(0,num_dimensions):\n",
    "            self.velocity_i.append(random.uniform(-0.25,0.25))\n",
    "            self.position_i.append(x0[i])\n",
    "\n",
    "    # evaluate current fitness\n",
    "    def evaluate(self, n, target, costFunc, shots):\n",
    "        self.err_i=costFunc(n, target, self.position_i, shots)\n",
    "\n",
    "        # check to see if the current position is an individual best\n",
    "        if self.err_i < self.err_best_i or self.err_best_i==-1:\n",
    "            self.pos_best_i=self.position_i\n",
    "            self.err_best_i=self.err_i\n",
    "\n",
    "    # update new particle velocity\n",
    "    def update_velocity(self,pos_best_g):\n",
    "        w=0.75       # constant inertia weight (how much to weigh the previous velocity)\n",
    "        c1=2        # cognative constant\n",
    "        c2=2        # social constant\n",
    "        \n",
    "        for i in range(0,num_dimensions):\n",
    "            r1=random.random()\n",
    "            r2=random.random()\n",
    "            \n",
    "            # We need to account for the fact that parameters are angles\n",
    "            dist_cog = self.pos_best_i[i]-self.position_i[i]\n",
    "            if dist_cog > pi:\n",
    "                dist_cog -= 2*pi\n",
    "            if dist_cog < -pi:\n",
    "                dist_cog += 2*pi\n",
    "                \n",
    "            dist_soc = pos_best_g[i] - self.position_i[i]\n",
    "            if dist_soc > pi:\n",
    "                dist_soc -= 2*pi\n",
    "            if dist_soc < -pi:\n",
    "                dist_soc += 2*pi\n",
    "\n",
    "            vel_cognitive=c1*r1*dist_cog\n",
    "            vel_social=c2*r2*dist_soc\n",
    "            self.velocity_i[i]=w*self.velocity_i[i]+vel_cognitive+vel_social\n",
    "\n",
    "    # update the particle position based off new velocity updates\n",
    "    def update_position(self):\n",
    "        for i in range(0,num_dimensions):\n",
    "            self.position_i[i]=self.position_i[i]+self.velocity_i[i]\n",
    "\n",
    "            #account for particles crossing the 0=2pi line\n",
    "            if self.position_i[i] > 2*pi:\n",
    "                self.position_i[i] -= 2*pi\n",
    "            \n",
    "            if self.position_i[i] < 0:\n",
    "                self.position_i[i] += 2*pi\n",
    "    \n",
    "                \n",
    "class PSO():\n",
    "    def __init__(self,n,shots,target,costFunc,x0,num_particles,maxiter):\n",
    "        global num_dimensions\n",
    "\n",
    "        num_dimensions=len(x0)\n",
    "        self.err_best_g=-1                   # best error for group\n",
    "        self.pos_best_g=[]                   # best position for group\n",
    "\n",
    "        # establish the swarm\n",
    "        swarm=[]\n",
    "        for i in range(0,num_particles):\n",
    "            swarm.append(Particle(x0))\n",
    "\n",
    "        # begin optimization loop\n",
    "        i=0\n",
    "        while i < maxiter:\n",
    "            # cycle through particles in swarm and evaluate fitness\n",
    "            for j in range(0,num_particles):\n",
    "                swarm[j].evaluate(n, target, costFunc, shots)\n",
    "\n",
    "                # determine if current particle is the best (globally)\n",
    "                if swarm[j].err_i < self.err_best_g or self.err_best_g == -1:\n",
    "                    self.pos_best_g=list(swarm[j].position_i)\n",
    "                    self.err_best_g=float(swarm[j].err_i)\n",
    "\n",
    "            # cycle through swarm and update velocities and position\n",
    "            for j in range(0,num_particles):\n",
    "                swarm[j].update_velocity(self.pos_best_g)\n",
    "                swarm[j].update_position()\n",
    "            i+=1\n",
    "            \n",
    "            if i%2 == 0:\n",
    "                print(\"Iteration %d: %f\" % (i, self.err_best_g))\n",
    "\n",
    "        # print final results\n",
    "        print('FINAL: %f' % self.err_best_g)\n",
    "        \n",
    "    \n",
    "    def best(self):\n",
    "        return self.pos_best_g\n",
    "        \n",
    "\n",
    "if __name__ == \"__PSO__\":\n",
    "    main()"
   ]
  },
  {
   "cell_type": "code",
   "execution_count": 17,
   "metadata": {},
   "outputs": [],
   "source": [
    "n = 3\n",
    "\n",
    "distribution = np.random.rand(2**n)\n",
    "distribution /= sum(distribution)"
   ]
  },
  {
   "cell_type": "code",
   "execution_count": 75,
   "metadata": {},
   "outputs": [
    {
     "name": "stdout",
     "output_type": "stream",
     "text": [
      "Iteration 2: 1.779523\n",
      "Iteration 4: 1.374387\n",
      "Iteration 6: 0.709321\n",
      "Iteration 8: 0.501210\n",
      "Iteration 10: 0.456713\n",
      "Iteration 12: 0.427105\n",
      "Iteration 14: 0.397274\n",
      "Iteration 16: 0.397274\n",
      "Iteration 18: 0.397274\n",
      "Iteration 20: 0.394971\n",
      "Iteration 22: 0.394971\n",
      "Iteration 24: 0.394971\n",
      "Iteration 26: 0.394971\n",
      "FINAL: 0.394971\n"
     ]
    },
    {
     "data": {
      "image/png": "[encoded data removed]",
      "text/plain": [
       "<Figure size 504x360 with 1 Axes>"
      ]
     },
     "execution_count": 75,
     "metadata": {},
     "output_type": "execute_result"
    }
   ],
   "source": [
    "# Run optimization\n",
    "\n",
    "n = 4\n",
    "layers = 2\n",
    "shots = 1000   #shots per run of given circuit; larger will give better statistics from runs\n",
    "\n",
    "target = get_target(length = 2, num_samples = 1000)\n",
    "\n",
    "initial = np.random.normal(loc = pi, scale = pi/2, size=int((2*n+n*(n-1))*layers))\n",
    "\n",
    "best = PSO(n, shots, target, costFunc, initial, num_particles=40, maxiter=26).best()\n",
    "\n",
    "learned = run_circuit(n, best, shots)\n",
    "plot_histogram(learned)"
   ]
  },
  {
   "cell_type": "code",
   "execution_count": 74,
   "metadata": {},
   "outputs": [
    {
     "data": {
      "text/plain": [
       "{'000000000': 0.121,\n",
       " '111000111': 0.061,\n",
       " '001001001': 0.059,\n",
       " '110110110': 0.06,\n",
       " '101101101': 0.052,\n",
       " '111000000': 0.064,\n",
       " '000111000': 0.076,\n",
       " '100100100': 0.074,\n",
       " '011011011': 0.052,\n",
       " '000000111': 0.058,\n",
       " '111111111': 0.126,\n",
       " '000111111': 0.065,\n",
       " '111111000': 0.076,\n",
       " '010010010': 0.056}"
      ]
     },
     "execution_count": 74,
     "metadata": {},
     "output_type": "execute_result"
    }
   ],
   "source": [
    "target"
   ]
  },
  {
   "cell_type": "code",
   "execution_count": null,
   "metadata": {},
   "outputs": [],
   "source": [
    "params = [4.952183907076087, 5.366143366803098, 6.1802748069211395, 5.423623009334368, 5.277995751340181, 4.9934647678469295]\n",
    "learned = run_circuit(n, params, shots)\n",
    "plot_histogram(learned)"
   ]
  },
  {
   "cell_type": "code",
   "execution_count": null,
   "metadata": {},
   "outputs": [],
   "source": [
    "length = len(initial)\n",
    "layers = int(length/(2*n))\n",
    "layers"
   ]
  },
  {
   "cell_type": "code",
   "execution_count": null,
   "metadata": {},
   "outputs": [],
   "source": [
    "n=3\n",
    "k=0\n",
    "initial"
   ]
  },
  {
   "cell_type": "code",
   "execution_count": null,
   "metadata": {},
   "outputs": [],
   "source": [
    "initial[2*n*k : 2*n*(k+1)]"
   ]
  },
  {
   "cell_type": "code",
   "execution_count": null,
   "metadata": {},
   "outputs": [],
   "source": [
    "n = 3\n",
    "layers = 3\n",
    "\n",
    "initial = np.random.normal(loc = pi, scale = pi/2, size=int((2*n+n*(n-1)/2)*layers))\n",
    "initial"
   ]
  },
  {
   "cell_type": "code",
   "execution_count": null,
   "metadata": {},
   "outputs": [],
   "source": [
    "initial[:6]"
   ]
  },
  {
   "cell_type": "code",
   "execution_count": null,
   "metadata": {},
   "outputs": [],
   "source": [
    "initial[6:7]"
   ]
  },
  {
   "cell_type": "code",
   "execution_count": null,
   "metadata": {},
   "outputs": [],
   "source": []
  }
 ],
 "metadata": {
  "kernelspec": {
   "display_name": "Python [conda env:qiskit] *",
   "language": "python",
   "name": "conda-env-qiskit-py"
  },
  "language_info": {
   "codemirror_mode": {
    "name": "ipython",
    "version": 3
   },
   "file_extension": ".py",
   "mimetype": "text/x-python",
   "name": "python",
   "nbconvert_exporter": "python",
   "pygments_lexer": "ipython3",
   "version": "3.7.4"
  }
 },
 "nbformat": 4,
 "nbformat_minor": 2
}
