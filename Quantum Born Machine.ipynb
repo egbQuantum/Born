{
 "cells": [
  {
   "cell_type": "code",
   "execution_count": 1,
   "metadata": {},
   "outputs": [],
   "source": [
    "import numpy as np\n",
    "import time\n",
    "from qiskit import ClassicalRegister, QuantumRegister, QuantumCircuit, execute, Aer\n",
    "from qiskit.visualization import plot_histogram\n",
    "from qiskit.aqua import Operator, run_algorithm\n",
    "\n",
    "import random\n",
    "from math import log, pi"
   ]
  },
  {
   "cell_type": "code",
   "execution_count": 2,
   "metadata": {},
   "outputs": [],
   "source": [
    "# Use Aer's qasm_simulator\n",
    "backend = Aer.get_backend('qasm_simulator')"
   ]
  },
  {
   "cell_type": "code",
   "execution_count": 3,
   "metadata": {},
   "outputs": [],
   "source": [
    "# Define layer of quantum circuit.\n",
    "# For now let's just parameterize the single qubit gates\n",
    "\n",
    "def rotations(circ, q, n, params):\n",
    "    for i in range(n):\n",
    "        angles = params[i,:]\n",
    "        circ.u3(angles[0], angles[1], 0, q[i])\n",
    "\n",
    "def FC(circ, q, n):\n",
    "    for i in range(n):\n",
    "        for j in range(n):\n",
    "            if i != j:\n",
    "                circ.cx(q[i], q[j])\n",
    "                \n",
    "def layer(circ, q, n, params):\n",
    "    rotations(circ, q, n, params)\n",
    "    FC(circ, q, n)\n",
    "    return circ"
   ]
  },
  {
   "cell_type": "code",
   "execution_count": 4,
   "metadata": {},
   "outputs": [],
   "source": [
    "# function for creating a target distribution\n",
    "def get_target():\n",
    "    d ={\n",
    "    '000': 1/2,\n",
    "    '001': 0,\n",
    "    '010': 0,\n",
    "    '011': 0,\n",
    "    '100': 0,\n",
    "    '101': 0,\n",
    "    '110': 0,\n",
    "    '111': 1/2\n",
    "    }\n",
    "    return d\n",
    "\n",
    "# define the cost function, here being the KL divergence between the target and learned distributions\n",
    "def get_cost(target, learned, shots):\n",
    "    epsilon = 0.01\n",
    "    cost = 0\n",
    "    for key in target:\n",
    "        if key not in learned:      \n",
    "            learned[key] = 0         # adds any keys to learned for which we got no counts \n",
    "        learned[key] /= shots        # normalize counts from measurements\n",
    "        \n",
    "        if target[key] != 0:\n",
    "            cost += target[key]*(log(target[key]) - log(max(epsilon, learned[key])))\n",
    "    \n",
    "    return cost\n",
    "\n",
    "def costFunc(params, shots=1000):\n",
    "    n = 3\n",
    "    params = np.reshape(params, (n,2))\n",
    "    learned = run_circuit(n, params, shots)\n",
    "    target = get_target()\n",
    "    cost = get_cost(target, learned, shots)\n",
    "    \n",
    "    return cost\n",
    "\n",
    "def run_circuit(n, params, shots):\n",
    "    q = QuantumRegister(n)                  #can these be initialized outside the function?\n",
    "    c = ClassicalRegister(n)\n",
    "    circ = QuantumCircuit(q, c)\n",
    "    \n",
    "    output = layer(circ, q, n, params)\n",
    "    for i in range(n):\n",
    "        output.measure(q[i], c[i])\n",
    "    result = execute(output, backend = backend, shots = shots)\n",
    "    learned = result.result().get_counts(output)\n",
    "    \n",
    "    return learned"
   ]
  },
  {
   "cell_type": "code",
   "execution_count": 5,
   "metadata": {},
   "outputs": [],
   "source": [
    "# Particle swarm optimizer\n",
    "\n",
    "class Particle:\n",
    "    def __init__(self,x0):\n",
    "        self.position_i=[]          # particle position\n",
    "        self.velocity_i=[]          # particle velocity\n",
    "        self.pos_best_i=[]          # best position individual\n",
    "        self.err_best_i=-1          # best error individual\n",
    "        self.err_i=-1               # error individual\n",
    "\n",
    "        for i in range(0,num_dimensions):\n",
    "            self.velocity_i.append(random.uniform(-1,1))\n",
    "            self.position_i.append(x0[i])\n",
    "\n",
    "    # evaluate current fitness\n",
    "    def evaluate(self,costFunc):\n",
    "        self.err_i=costFunc(self.position_i)\n",
    "\n",
    "        # check to see if the current position is an individual best\n",
    "        if self.err_i < self.err_best_i or self.err_best_i==-1:\n",
    "            self.pos_best_i=self.position_i\n",
    "            self.err_best_i=self.err_i\n",
    "\n",
    "    # update new particle velocity\n",
    "    def update_velocity(self,pos_best_g):\n",
    "        w=0.5       # constant inertia weight (how much to weigh the previous velocity)\n",
    "        c1=1        # cognative constant\n",
    "        c2=2        # social constant\n",
    "        \n",
    "        for i in range(0,num_dimensions):\n",
    "            r1=random.random()\n",
    "            r2=random.random()\n",
    "            \n",
    "            # We need to account for the fact that parameters are angles\n",
    "            dist_cog = self.pos_best_i[i]-self.position_i[i]\n",
    "            if dist_cog > pi:\n",
    "                dist_cog -= 2*pi\n",
    "            if dist_cog < -pi:\n",
    "                dist_cog += 2*pi\n",
    "                \n",
    "            dist_soc = pos_best_g[i] - self.position_i[i]\n",
    "            if dist_soc > pi:\n",
    "                dist_soc -= 2*pi\n",
    "            if dist_soc < -pi:\n",
    "                dist_soc += 2*pi\n",
    "\n",
    "            vel_cognitive=c1*r1*dist_cog\n",
    "            vel_social=c2*r2*dist_soc\n",
    "            self.velocity_i[i]=w*self.velocity_i[i]+vel_cognitive+vel_social\n",
    "\n",
    "    # update the particle position based off new velocity updates\n",
    "    def update_position(self,bounds):\n",
    "        for i in range(0,num_dimensions):\n",
    "            self.position_i[i]=self.position_i[i]+self.velocity_i[i]\n",
    "\n",
    "            #account for particles crossing the 0=2pi line\n",
    "            if self.position_i[i] > 2*pi:\n",
    "                self.position_i[i] -= 2*pi\n",
    "            \n",
    "            if self.position_i[i] < 0:\n",
    "                self.position_i[i] += 2*pi\n",
    "            \n",
    "            # adjust maximum position if necessary\n",
    "          #  if self.position_i[i]>bounds[1]:\n",
    "          #      self.position_i[i]=bounds[1]\n",
    "\n",
    "            # adjust minimum position if neseccary\n",
    "          #  if self.position_i[i] < bounds[0]:\n",
    "          #      self.position_i[i]=bounds[0]\n",
    "                \n",
    "    \n",
    "                \n",
    "class PSO():\n",
    "    def __init__(self,costFunc,x0,bounds,num_particles,maxiter):\n",
    "        global num_dimensions\n",
    "\n",
    "        num_dimensions=len(x0)\n",
    "        err_best_g=-1                   # best error for group\n",
    "        pos_best_g=[]                   # best position for group\n",
    "\n",
    "        # establish the swarm\n",
    "        swarm=[]\n",
    "        for i in range(0,num_particles):\n",
    "            swarm.append(Particle(x0))\n",
    "\n",
    "        # begin optimization loop\n",
    "        i=0\n",
    "        while i < maxiter:\n",
    "            #print i,err_best_g\n",
    "            # cycle through particles in swarm and evaluate fitness\n",
    "            for j in range(0,num_particles):\n",
    "                swarm[j].evaluate(costFunc)\n",
    "\n",
    "                # determine if current particle is the best (globally)\n",
    "                if swarm[j].err_i < err_best_g or err_best_g == -1:\n",
    "                    pos_best_g=list(swarm[j].position_i)\n",
    "                    err_best_g=float(swarm[j].err_i)\n",
    "\n",
    "            # cycle through swarm and update velocities and position\n",
    "            for j in range(0,num_particles):\n",
    "                swarm[j].update_velocity(pos_best_g)\n",
    "                swarm[j].update_position(bounds)\n",
    "            i+=1\n",
    "\n",
    "        # print final results\n",
    "        print('FINAL:')\n",
    "        print(pos_best_g)\n",
    "        print(err_best_g)\n",
    "\n",
    "if __name__ == \"__PSO__\":\n",
    "    main()"
   ]
  },
  {
   "cell_type": "code",
   "execution_count": 6,
   "metadata": {},
   "outputs": [
    {
     "name": "stdout",
     "output_type": "stream",
     "text": [
      "1.8156827739566646\n"
     ]
    },
    {
     "data": {
      "image/png": "[encoded data removed]",
      "text/plain": [
       "<Figure size 504x360 with 1 Axes>"
      ]
     },
     "execution_count": 6,
     "metadata": {},
     "output_type": "execute_result"
    }
   ],
   "source": [
    "#Test getting cost function from initial parameters\n",
    "\n",
    "n = 3\n",
    "q = QuantumRegister(n)\n",
    "c = ClassicalRegister(n)\n",
    "circ = QuantumCircuit(q,c)\n",
    "\n",
    "shots = 1000\n",
    "\n",
    "# initial gate parameters\n",
    "#params = np.random.normal(size=[n, 2])\n",
    "params = np.array([[0.89616875, 1.21379434], [0.89128765, 1.25003966], [ 0.13975626, -0.14320516]])\n",
    "\n",
    "learned = run_circuit(n, params, shots)\n",
    "\n",
    "print(costFunc(params))\n",
    "plot_histogram(learned)"
   ]
  },
  {
   "cell_type": "code",
   "execution_count": 7,
   "metadata": {},
   "outputs": [
    {
     "name": "stdout",
     "output_type": "stream",
     "text": [
      "FINAL:\n",
      "[0.02205993181940339, 1.7916182235597133, 0.04586320566975832, 4.64204955093646, 4.719931047993748, 1.7275822683604352]\n",
      "0.0\n"
     ]
    },
    {
     "data": {
      "text/plain": [
       "<__main__.PSO at 0x11fdcf35888>"
      ]
     },
     "execution_count": 7,
     "metadata": {},
     "output_type": "execute_result"
    }
   ],
   "source": [
    "# Run optimization\n",
    "initial = np.random.normal(size=[n, 2])\n",
    "bounds = [0, 2*pi]\n",
    "PSO(costFunc, initial.flatten(), bounds, num_particles=20, maxiter=50)"
   ]
  },
  {
   "cell_type": "code",
   "execution_count": null,
   "metadata": {},
   "outputs": [],
   "source": []
  },
  {
   "cell_type": "code",
   "execution_count": 8,
   "metadata": {},
   "outputs": [
    {
     "name": "stdout",
     "output_type": "stream",
     "text": [
      "0.0023053062788416234\n"
     ]
    },
    {
     "data": {
      "image/png": "[encoded data removed]",
      "text/plain": [
       "<Figure size 504x360 with 1 Axes>"
      ]
     },
     "execution_count": 8,
     "metadata": {},
     "output_type": "execute_result"
    }
   ],
   "source": [
    "n = 3\n",
    "q = QuantumRegister(n)\n",
    "c = ClassicalRegister(n)\n",
    "circ = QuantumCircuit(q,c)\n",
    "\n",
    "shots = 1000\n",
    "\n",
    "# initial gate parameters\n",
    "#params = np.random.normal(size=[n, 2])\n",
    "params = np.reshape([0.02205993181940339, 1.7916182235597133, 0.04586320566975832, 4.64204955093646, 4.719931047993748, 1.7275822683604352], (n,2))\n",
    "\n",
    "print(costFunc(params))\n",
    "\n",
    "output = layer(circ, q, n, params)\n",
    "\n",
    "for i in range(n):\n",
    "    output.measure(q[i], c[i])\n",
    "    \n",
    "result = execute(output, backend=backend, shots=shots)\n",
    "learned = result.result().get_counts(output)      #outputs in a dict with keys '000', '001' etc\n",
    "plot_histogram(result.result().get_counts(output))"
   ]
  },
  {
   "cell_type": "code",
   "execution_count": 15,
   "metadata": {},
   "outputs": [
    {
     "name": "stdout",
     "output_type": "stream",
     "text": [
      "[[-1.41149411, -0.63400851, 0.14374378], [-0.67474257, -1.08834468, -0.268572], [-2.4595944, -0.90954018, 0.68306977]]\n",
      "[-1.41149411, -0.63400851, 0.14374378]\n"
     ]
    }
   ],
   "source": [
    "params = [[-1.41149411, -0.63400851,  0.14374378], [-0.67474257, -1.08834468, -0.268572], [-2.4595944 , -0.90954018,  0.68306977]]\n",
    "print(params)\n",
    "print(params[0])"
   ]
  },
  {
   "cell_type": "code",
   "execution_count": 22,
   "metadata": {},
   "outputs": [
    {
     "name": "stdout",
     "output_type": "stream",
     "text": [
      "[[-0.37711583 -1.30572404 -0.36828176]\n",
      " [-1.16104043  0.95587773 -0.61019794]\n",
      " [-0.67758437 -1.04086556  1.21629317]]\n",
      "[-0.37711583 -1.30572404 -0.36828176]\n"
     ]
    }
   ],
   "source": [
    "params2 = np.random.normal(size=[n, 2])\n",
    "print(params2)\n",
    "print(params2[0,:])"
   ]
  },
  {
   "cell_type": "code",
   "execution_count": 100,
   "metadata": {},
   "outputs": [
    {
     "data": {
      "text/plain": [
       "array([-0.49254391, -0.14550551,  0.65136616,  0.87832366, -0.75502212,\n",
       "        1.481088  ])"
      ]
     },
     "execution_count": 100,
     "metadata": {},
     "output_type": "execute_result"
    }
   ],
   "source": [
    "np.random.normal(size=[n, 2]).flatten()"
   ]
  },
  {
   "cell_type": "code",
   "execution_count": 21,
   "metadata": {},
   "outputs": [
    {
     "data": {
      "text/plain": [
       "array([-1.41149411, -0.63400851,  0.14374378])"
      ]
     },
     "execution_count": 21,
     "metadata": {},
     "output_type": "execute_result"
    }
   ],
   "source": [
    "params3 = np.array(params)\n",
    "params3[0,:]"
   ]
  },
  {
   "cell_type": "code",
   "execution_count": 89,
   "metadata": {},
   "outputs": [
    {
     "data": {
      "text/plain": [
       "1"
      ]
     },
     "execution_count": 89,
     "metadata": {},
     "output_type": "execute_result"
    }
   ],
   "source": [
    "abs(-1)"
   ]
  },
  {
   "cell_type": "code",
   "execution_count": 80,
   "metadata": {},
   "outputs": [
    {
     "data": {
      "text/plain": [
       "False"
      ]
     },
     "execution_count": 80,
     "metadata": {},
     "output_type": "execute_result"
    }
   ],
   "source": [
    "'000' not in a.keys()"
   ]
  },
  {
   "cell_type": "code",
   "execution_count": 81,
   "metadata": {},
   "outputs": [],
   "source": [
    "a['extra']=-1"
   ]
  },
  {
   "cell_type": "code",
   "execution_count": 90,
   "metadata": {},
   "outputs": [
    {
     "data": {
      "text/plain": [
       "2"
      ]
     },
     "execution_count": 90,
     "metadata": {},
     "output_type": "execute_result"
    }
   ],
   "source": [
    "max(1,2)"
   ]
  },
  {
   "cell_type": "code",
   "execution_count": 96,
   "metadata": {},
   "outputs": [
    {
     "data": {
      "text/plain": [
       "3.141592653589793"
      ]
     },
     "execution_count": 96,
     "metadata": {},
     "output_type": "execute_result"
    }
   ],
   "source": [
    "pi"
   ]
  },
  {
   "cell_type": "code",
   "execution_count": 101,
   "metadata": {},
   "outputs": [
    {
     "data": {
      "text/plain": [
       "[1, 2, 3, 4, 5, 6]"
      ]
     },
     "execution_count": 101,
     "metadata": {},
     "output_type": "execute_result"
    }
   ],
   "source": [
    "a=[1,2,3,4,5,6]\n",
    "a"
   ]
  },
  {
   "cell_type": "code",
   "execution_count": 105,
   "metadata": {},
   "outputs": [
    {
     "data": {
      "text/plain": [
       "array([[1, 2, 3],\n",
       "       [4, 5, 6]])"
      ]
     },
     "execution_count": 105,
     "metadata": {},
     "output_type": "execute_result"
    }
   ],
   "source": [
    "a = np.reshape(a, (2,3))\n",
    "a"
   ]
  },
  {
   "cell_type": "code",
   "execution_count": 115,
   "metadata": {},
   "outputs": [
    {
     "data": {
      "text/plain": [
       "{'000': 0.5,\n",
       " '001': 0,\n",
       " '010': 0,\n",
       " '011': 0,\n",
       " '100': 0,\n",
       " '101': 0,\n",
       " '110': 0,\n",
       " '111': 0.5}"
      ]
     },
     "execution_count": 115,
     "metadata": {},
     "output_type": "execute_result"
    }
   ],
   "source": [
    "a = target()\n",
    "a"
   ]
  },
  {
   "cell_type": "code",
   "execution_count": null,
   "metadata": {},
   "outputs": [],
   "source": []
  }
 ],
 "metadata": {
  "kernelspec": {
   "display_name": "Python [conda env:qiskit] *",
   "language": "python",
   "name": "conda-env-qiskit-py"
  },
  "language_info": {
   "codemirror_mode": {
    "name": "ipython",
    "version": 3
   },
   "file_extension": ".py",
   "mimetype": "text/x-python",
   "name": "python",
   "nbconvert_exporter": "python",
   "pygments_lexer": "ipython3",
   "version": "3.7.4"
  }
 },
 "nbformat": 4,
 "nbformat_minor": 2
}
