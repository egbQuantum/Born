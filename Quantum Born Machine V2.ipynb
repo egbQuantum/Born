{
 "cells": [
  {
   "cell_type": "code",
   "execution_count": 1,
   "metadata": {},
   "outputs": [],
   "source": [
    "import numpy as np\n",
    "import time\n",
    "from qiskit import ClassicalRegister, QuantumRegister, QuantumCircuit, execute, Aer\n",
    "from qiskit.visualization import plot_histogram\n",
    "from qiskit.aqua import Operator, run_algorithm\n",
    "\n",
    "import random\n",
    "from math import log, pi"
   ]
  },
  {
   "cell_type": "code",
   "execution_count": 2,
   "metadata": {},
   "outputs": [],
   "source": [
    "# Use Aer's qasm_simulator\n",
    "backend = Aer.get_backend('qasm_simulator')"
   ]
  },
  {
   "cell_type": "code",
   "execution_count": 76,
   "metadata": {},
   "outputs": [],
   "source": [
    "# Define layer of quantum circuit.\n",
    "# For now let's just parameterize the single qubit gates\n",
    "\n",
    "def rotations(circ, q, n, params):\n",
    "    for i in range(n):\n",
    "        circ.u3(params[2*i], params[2*i+1], 0, q[i])\n",
    "\n",
    "def FC(circ, q, n):\n",
    "    for i in range(n):\n",
    "        for j in range(n):\n",
    "            if i != j:\n",
    "                circ.cx(q[i], q[j])\n",
    "                \n",
    "def layer(circ, q, n, params):\n",
    "    rotations(circ, q, n, params)\n",
    "    FC(circ, q, n)\n",
    "    return circ"
   ]
  },
  {
   "cell_type": "code",
   "execution_count": 90,
   "metadata": {},
   "outputs": [],
   "source": [
    "# function for creating a target distribution\n",
    "\n",
    "def get_target():\n",
    "    d ={\n",
    "    '0000': 1/8,\n",
    "    '0110': 1/4,\n",
    "    '1001': 1/4,\n",
    "    '0101': 1/8,\n",
    "    '1010': 1/8,\n",
    "    '1111': 1/8}\n",
    "    return d\n",
    "\n",
    "# def get_target():\n",
    "#     d ={\n",
    "#     '000': 1/4,\n",
    "#     '010': 1/4,\n",
    "#     '101': 1/4,\n",
    "#     '111': 1/4  }\n",
    "#     return d\n",
    "\n",
    "# define the cost function, here being the KL divergence between the target and learned distributions\n",
    "def get_cost(target, learned, shots):\n",
    "    epsilon = 0.01\n",
    "    cost = 0\n",
    "    \n",
    "    for key in learned:\n",
    "        learned[key] /= shots     # normalize counts from measurements\n",
    "        \n",
    "    for key in target:\n",
    "        if key not in learned:      \n",
    "            learned[key] = 0         # adds any necessary keys to learned for which we got no counts        \n",
    "        \n",
    "        if target[key] != 0:\n",
    "            cost += target[key]*(log(target[key]) - log(max(epsilon, learned[key])))\n",
    "    \n",
    "    return cost\n",
    "\n",
    "def costFunc(n, params, shots):\n",
    "  #  params = np.reshape(params, (n,2))\n",
    "    learned = run_circuit(n, params, shots)\n",
    "    target = get_target()\n",
    "    cost = get_cost(target, learned, shots)\n",
    "    \n",
    "    return cost\n",
    "\n",
    "def run_circuit(n, params, shots):\n",
    "    q = QuantumRegister(n)                  #can these be initialized outside the function?\n",
    "    c = ClassicalRegister(n)\n",
    "    circ = QuantumCircuit(q, c)\n",
    "    \n",
    "    num_params = len(params)\n",
    "    num_layers = int(num_params/(2*n))\n",
    "    \n",
    "    for k in range(num_layers):\n",
    "        circ = layer(circ, q, n, params[2*n*k : 2*n*(k+1)])\n",
    "    \n",
    "    for i in range(n):\n",
    "        circ.measure(q[i], c[i])\n",
    "    result = execute(circ, backend = backend, shots = shots)\n",
    "    learned = result.result().get_counts(circ)\n",
    "    \n",
    "    return learned\n",
    "\n",
    "def hist(n, params, shots):\n",
    "    params = np.reshape(params, (n,2))\n",
    "    learned = run_circuit(n, params, shots)\n",
    "    plot_histogram(learned)"
   ]
  },
  {
   "cell_type": "code",
   "execution_count": 78,
   "metadata": {},
   "outputs": [],
   "source": [
    "# Particle swarm optimizer\n",
    "\n",
    "class Particle:\n",
    "    def __init__(self,x0):\n",
    "        self.position_i=[]          # particle position\n",
    "        self.velocity_i=[]          # particle velocity\n",
    "        self.pos_best_i=[]          # best position individual\n",
    "        self.err_best_i=-1          # best error individual\n",
    "        self.err_i=-1               # error individual\n",
    "\n",
    "        for i in range(0,num_dimensions):\n",
    "            self.velocity_i.append(random.uniform(-0.25,0.25))\n",
    "            self.position_i.append(x0[i])\n",
    "\n",
    "    # evaluate current fitness\n",
    "    def evaluate(self, n, costFunc, shots):\n",
    "        self.err_i=costFunc(n, self.position_i, shots)\n",
    "\n",
    "        # check to see if the current position is an individual best\n",
    "        if self.err_i < self.err_best_i or self.err_best_i==-1:\n",
    "            self.pos_best_i=self.position_i\n",
    "            self.err_best_i=self.err_i\n",
    "\n",
    "    # update new particle velocity\n",
    "    def update_velocity(self,pos_best_g):\n",
    "        w=0.75       # constant inertia weight (how much to weigh the previous velocity)\n",
    "        c1=2        # cognative constant\n",
    "        c2=2        # social constant\n",
    "        \n",
    "        for i in range(0,num_dimensions):\n",
    "            r1=random.random()\n",
    "            r2=random.random()\n",
    "            \n",
    "            # We need to account for the fact that parameters are angles\n",
    "            dist_cog = self.pos_best_i[i]-self.position_i[i]\n",
    "            if dist_cog > pi:\n",
    "                dist_cog -= 2*pi\n",
    "            if dist_cog < -pi:\n",
    "                dist_cog += 2*pi\n",
    "                \n",
    "            dist_soc = pos_best_g[i] - self.position_i[i]\n",
    "            if dist_soc > pi:\n",
    "                dist_soc -= 2*pi\n",
    "            if dist_soc < -pi:\n",
    "                dist_soc += 2*pi\n",
    "\n",
    "            vel_cognitive=c1*r1*dist_cog\n",
    "            vel_social=c2*r2*dist_soc\n",
    "            self.velocity_i[i]=w*self.velocity_i[i]+vel_cognitive+vel_social\n",
    "\n",
    "    # update the particle position based off new velocity updates\n",
    "    def update_position(self):\n",
    "        for i in range(0,num_dimensions):\n",
    "            self.position_i[i]=self.position_i[i]+self.velocity_i[i]\n",
    "\n",
    "            #account for particles crossing the 0=2pi line\n",
    "            if self.position_i[i] > 2*pi:\n",
    "                self.position_i[i] -= 2*pi\n",
    "            \n",
    "            if self.position_i[i] < 0:\n",
    "                self.position_i[i] += 2*pi\n",
    "    \n",
    "                \n",
    "class PSO():\n",
    "    def __init__(self,n,shots,costFunc,x0,num_particles,maxiter):\n",
    "        global num_dimensions\n",
    "\n",
    "        num_dimensions=len(x0)\n",
    "        self.err_best_g=-1                   # best error for group\n",
    "        self.pos_best_g=[]                   # best position for group\n",
    "\n",
    "        # establish the swarm\n",
    "        swarm=[]\n",
    "        for i in range(0,num_particles):\n",
    "            swarm.append(Particle(x0))\n",
    "\n",
    "        # begin optimization loop\n",
    "        i=0\n",
    "        while i < maxiter:\n",
    "            # cycle through particles in swarm and evaluate fitness\n",
    "            for j in range(0,num_particles):\n",
    "                swarm[j].evaluate(n, costFunc, shots)\n",
    "\n",
    "                # determine if current particle is the best (globally)\n",
    "                if swarm[j].err_i < self.err_best_g or self.err_best_g == -1:\n",
    "                    self.pos_best_g=list(swarm[j].position_i)\n",
    "                    self.err_best_g=float(swarm[j].err_i)\n",
    "\n",
    "            # cycle through swarm and update velocities and position\n",
    "            for j in range(0,num_particles):\n",
    "                swarm[j].update_velocity(self.pos_best_g)\n",
    "                swarm[j].update_position()\n",
    "            i+=1\n",
    "            \n",
    "            if i%2 == 0:\n",
    "                print(\"Iteration %d: %f\" % (i, self.err_best_g))\n",
    "\n",
    "        # print final results\n",
    "        print('FINAL: %f' % self.err_best_g)\n",
    "        \n",
    "    \n",
    "    def best(self):\n",
    "        return self.pos_best_g\n",
    "        \n",
    "\n",
    "if __name__ == \"__PSO__\":\n",
    "    main()"
   ]
  },
  {
   "cell_type": "code",
   "execution_count": 91,
   "metadata": {},
   "outputs": [
    {
     "name": "stdout",
     "output_type": "stream",
     "text": [
      "Iteration 2: 1.093338\n",
      "Iteration 4: 0.740832\n",
      "Iteration 6: 0.694982\n",
      "Iteration 8: 0.617123\n",
      "Iteration 10: 0.607059\n",
      "Iteration 12: 0.535250\n",
      "Iteration 14: 0.459520\n",
      "Iteration 16: 0.349481\n",
      "Iteration 18: 0.349481\n",
      "Iteration 20: 0.349481\n",
      "FINAL: 0.349481\n"
     ]
    },
    {
     "data": {
      "image/png": "[encoded data removed]",
      "text/plain": [
       "<Figure size 504x360 with 1 Axes>"
      ]
     },
     "execution_count": 91,
     "metadata": {},
     "output_type": "execute_result"
    }
   ],
   "source": [
    "# Run optimization\n",
    "\n",
    "n = 4\n",
    "layers = 3\n",
    "shots = 1000   #shots per run of given circuit; larger will give better statistics from runs\n",
    "\n",
    "initial = np.random.normal(size=2*n*layers)\n",
    "\n",
    "best = PSO(n, shots, costFunc, initial, num_particles=40, maxiter=20).best()\n",
    "\n",
    "learned = run_circuit(n, best, shots)\n",
    "plot_histogram(learned)"
   ]
  },
  {
   "cell_type": "code",
   "execution_count": 88,
   "metadata": {},
   "outputs": [
    {
     "data": {
      "image/png": "[encoded data removed]",
      "text/plain": [
       "<Figure size 504x360 with 1 Axes>"
      ]
     },
     "execution_count": 88,
     "metadata": {},
     "output_type": "execute_result"
    }
   ],
   "source": [
    "target = get_target()\n",
    "plot_histogram(target)"
   ]
  },
  {
   "cell_type": "code",
   "execution_count": 81,
   "metadata": {},
   "outputs": [
    {
     "data": {
      "image/png": "[encoded data removed]",
      "text/plain": [
       "<Figure size 504x360 with 1 Axes>"
      ]
     },
     "execution_count": 81,
     "metadata": {},
     "output_type": "execute_result"
    }
   ],
   "source": [
    "params = [4.952183907076087, 5.366143366803098, 6.1802748069211395, 5.423623009334368, 5.277995751340181, 4.9934647678469295]\n",
    "learned = run_circuit(n, params, shots)\n",
    "plot_histogram(learned)"
   ]
  },
  {
   "cell_type": "code",
   "execution_count": 61,
   "metadata": {},
   "outputs": [
    {
     "data": {
      "text/plain": [
       "1"
      ]
     },
     "execution_count": 61,
     "metadata": {},
     "output_type": "execute_result"
    }
   ],
   "source": [
    "length = len(initial)\n",
    "layers = int(length/(2*n))\n",
    "layers"
   ]
  },
  {
   "cell_type": "code",
   "execution_count": 65,
   "metadata": {},
   "outputs": [
    {
     "data": {
      "text/plain": [
       "array([-0.35296714,  1.15942579, -2.63424782, -0.4158417 ,  0.4378306 ,\n",
       "        1.33024825])"
      ]
     },
     "execution_count": 65,
     "metadata": {},
     "output_type": "execute_result"
    }
   ],
   "source": [
    "n=3\n",
    "k=0\n",
    "initial"
   ]
  },
  {
   "cell_type": "code",
   "execution_count": 68,
   "metadata": {},
   "outputs": [
    {
     "data": {
      "text/plain": [
       "array([-0.35296714,  1.15942579, -2.63424782, -0.4158417 ,  0.4378306 ,\n",
       "        1.33024825])"
      ]
     },
     "execution_count": 68,
     "metadata": {},
     "output_type": "execute_result"
    }
   ],
   "source": [
    "initial[2*n*k : 2*n*(k+1)]"
   ]
  },
  {
   "cell_type": "code",
   "execution_count": null,
   "metadata": {},
   "outputs": [],
   "source": []
  }
 ],
 "metadata": {
  "kernelspec": {
   "display_name": "Python [conda env:qiskit] *",
   "language": "python",
   "name": "conda-env-qiskit-py"
  },
  "language_info": {
   "codemirror_mode": {
    "name": "ipython",
    "version": 3
   },
   "file_extension": ".py",
   "mimetype": "text/x-python",
   "name": "python",
   "nbconvert_exporter": "python",
   "pygments_lexer": "ipython3",
   "version": "3.7.4"
  }
 },
 "nbformat": 4,
 "nbformat_minor": 2
}
