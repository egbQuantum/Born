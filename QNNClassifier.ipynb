{
 "cells": [
  {
   "cell_type": "code",
   "execution_count": 1,
   "metadata": {},
   "outputs": [],
   "source": [
    "import numpy as np\n",
    "import pandas as pd\n",
    "import time\n",
    "from qiskit import ClassicalRegister, QuantumRegister, QuantumCircuit, execute, Aer\n",
    "from qiskit.visualization import plot_histogram\n",
    "from qiskit.aqua import Operator, run_algorithm\n",
    "\n",
    "import random\n",
    "from math import log, pi\n",
    "\n",
    "\n",
    "\n",
    "dataTrain = pd.read_csv('Pancreas_Ovary_Train.txt', delimiter='\\t')\n",
    "dataTest = pd.read_csv('Pancreas_Ovary_Test.txt', delimiter='\\t')\n",
    "\n",
    "# transfer to np arrays and remove first columns\n",
    "arrayTrain = np.array(dataTrain)[:, 1:]\n",
    "arrayTest = np.array(dataTest)[:, 1:]\n",
    "\n",
    "#Combining for now\n",
    "array = np.vstack((arrayTrain, arrayTest))"
   ]
  },
  {
   "cell_type": "code",
   "execution_count": 2,
   "metadata": {},
   "outputs": [],
   "source": [
    "# Use Aer's qasm_simulator\n",
    "backend = Aer.get_backend('qasm_simulator')"
   ]
  },
  {
   "cell_type": "code",
   "execution_count": 3,
   "metadata": {},
   "outputs": [],
   "source": [
    "y = array[:,:2]\n",
    "data = array[:,2:]"
   ]
  },
  {
   "cell_type": "code",
   "execution_count": 37,
   "metadata": {},
   "outputs": [],
   "source": [
    "def encode(circ, q, n, datapoint):\n",
    "    for i in range(n):\n",
    "        if datapoint[i] == 1:\n",
    "            circ.x(q[i])\n",
    "    return circ\n",
    "\n",
    "def rotations(circ, q, n, params):\n",
    "    for i in range(n):\n",
    "        circ.u3(params[2*i], params[2*i+1], 0, q[i])\n",
    "\n",
    "def FC(circ, q, n):\n",
    "    for i in range(n):\n",
    "        for j in range(n):\n",
    "            if i != j:\n",
    "                circ.cx(q[i], q[j])\n",
    "                \n",
    "def layer(circ, q, n, params):\n",
    "    rotations(circ, q, n, params)\n",
    "    FC(circ, q, n)\n",
    "    return circ\n",
    "\n",
    "def run_circuit(n, q, c, circ, params, datapoint):\n",
    "    q = QuantumRegister(n)                  #can these be initialized outside the function?\n",
    "    c = ClassicalRegister(n)\n",
    "    circ = QuantumCircuit(q, c)\n",
    "    \n",
    "    num_params = len(params)\n",
    "    num_layers = int(num_params/(2*n))\n",
    "    \n",
    "    circ = encode(circ, q, n, datapoint)\n",
    "    \n",
    "    for k in range(num_layers):\n",
    "        circ = layer(circ, q, n, params[2*n*k : 2*n*(k+1)])\n",
    "    \n",
    "    #Measure 1st qubit (arbitrary) to be output\n",
    "    circ.measure(q[0],c[0])\n",
    "    \n",
    "    result = execute(circ, backend = backend, shots = 1, memory = True)\n",
    "    output = result.result().get_memory(circ)\n",
    "    output = int(output[0][1])     #Turn result into either just integer 0 or 1\n",
    "    \n",
    "    return output\n",
    "\n",
    "def costFunc(n, data, y, params):\n",
    "    q = QuantumRegister(n)                  #can these be initialized outside the function?\n",
    "    c = ClassicalRegister(n)\n",
    "    circ = QuantumCircuit(q, c)\n",
    "    \n",
    "    accuracy = 0\n",
    "    for i, datapoint in enumerate(data):\n",
    "        output = run_circuit(n, q, c, circ, params, datapoint)\n",
    "        circ.reset(q)\n",
    "        if output == y[i, 0]:\n",
    "            accuracy += 1\n",
    "    accuracy /= len(data)        \n",
    "    \n",
    "    return accuracy"
   ]
  },
  {
   "cell_type": "code",
   "execution_count": 38,
   "metadata": {},
   "outputs": [],
   "source": [
    "# Particle swarm optimizer\n",
    "\n",
    "class Particle:\n",
    "    def __init__(self,x0):\n",
    "        self.position_i=[]          # particle position\n",
    "        self.velocity_i=[]          # particle velocity\n",
    "        self.pos_best_i=[]          # best position individual\n",
    "        self.err_best_i=-1          # best error individual\n",
    "        self.err_i=-1               # error individual\n",
    "\n",
    "        for i in range(0,num_dimensions):\n",
    "            self.velocity_i.append(random.uniform(-0.25,0.25))\n",
    "            self.position_i.append(x0[i])\n",
    "\n",
    "    # evaluate current fitness\n",
    "    def evaluate(self, n, data, y, costFunc):\n",
    "        self.err_i=costFunc(n, data, y, self.position_i)\n",
    "\n",
    "        # check to see if the current position is an individual best\n",
    "        if self.err_i < self.err_best_i or self.err_best_i==-1:\n",
    "            self.pos_best_i=self.position_i\n",
    "            self.err_best_i=self.err_i\n",
    "\n",
    "    # update new particle velocity\n",
    "    def update_velocity(self,pos_best_g):\n",
    "        w=0.75       # constant inertia weight (how much to weigh the previous velocity)\n",
    "        c1=2        # cognative constant\n",
    "        c2=2        # social constant\n",
    "        \n",
    "        for i in range(0,num_dimensions):\n",
    "            r1=random.random()\n",
    "            r2=random.random()\n",
    "            \n",
    "            # We need to account for the fact that parameters are angles\n",
    "            dist_cog = self.pos_best_i[i]-self.position_i[i]\n",
    "            if dist_cog > pi:\n",
    "                dist_cog -= 2*pi\n",
    "            if dist_cog < -pi:\n",
    "                dist_cog += 2*pi\n",
    "                \n",
    "            dist_soc = pos_best_g[i] - self.position_i[i]\n",
    "            if dist_soc > pi:\n",
    "                dist_soc -= 2*pi\n",
    "            if dist_soc < -pi:\n",
    "                dist_soc += 2*pi\n",
    "\n",
    "            vel_cognitive=c1*r1*dist_cog\n",
    "            vel_social=c2*r2*dist_soc\n",
    "            self.velocity_i[i]=w*self.velocity_i[i]+vel_cognitive+vel_social\n",
    "\n",
    "    # update the particle position based off new velocity updates\n",
    "    def update_position(self):\n",
    "        for i in range(0,num_dimensions):\n",
    "            self.position_i[i]=self.position_i[i]+self.velocity_i[i]\n",
    "\n",
    "            #account for particles crossing the 0=2pi line\n",
    "            if self.position_i[i] > 2*pi:\n",
    "                self.position_i[i] -= 2*pi\n",
    "            \n",
    "            if self.position_i[i] < 0:\n",
    "                self.position_i[i] += 2*pi\n",
    "    \n",
    "                \n",
    "class PSO():\n",
    "    def __init__(self,n, data, y,costFunc,x0,num_particles,maxiter):\n",
    "        global num_dimensions\n",
    "\n",
    "        num_dimensions=len(x0)\n",
    "        self.err_best_g=-1                   # best error for group\n",
    "        self.pos_best_g=[]                   # best position for group\n",
    "\n",
    "        # establish the swarm\n",
    "        swarm=[]\n",
    "        for i in range(0,num_particles):\n",
    "            swarm.append(Particle(x0))\n",
    "\n",
    "        # begin optimization loop\n",
    "        i=0\n",
    "        while i < maxiter:\n",
    "            # cycle through particles in swarm and evaluate fitness\n",
    "            for j in range(0,num_particles):\n",
    "                swarm[j].evaluate(n, data, y, costFunc)\n",
    "\n",
    "                # determine if current particle is the best (globally)\n",
    "                if swarm[j].err_i < self.err_best_g or self.err_best_g == -1:\n",
    "                    self.pos_best_g=list(swarm[j].position_i)\n",
    "                    self.err_best_g=float(swarm[j].err_i)\n",
    "\n",
    "            # cycle through swarm and update velocities and position\n",
    "            for j in range(0,num_particles):\n",
    "                swarm[j].update_velocity(self.pos_best_g)\n",
    "                swarm[j].update_position()\n",
    "            i+=1\n",
    "            \n",
    "            if i%2 == 0:\n",
    "                print(\"Iteration %d: %f\" % (i, self.err_best_g))\n",
    "\n",
    "        # print final results\n",
    "        print('FINAL: %f' % self.err_best_g)\n",
    "        \n",
    "    \n",
    "    def best(self):\n",
    "        return self.pos_best_g\n",
    "        \n",
    "\n",
    "if __name__ == \"__PSO__\":\n",
    "    main()"
   ]
  },
  {
   "cell_type": "code",
   "execution_count": 40,
   "metadata": {},
   "outputs": [
    {
     "name": "stdout",
     "output_type": "stream",
     "text": [
      "Iteration 2: 0.632653\n",
      "Iteration 4: 0.632653\n",
      "Iteration 6: 0.632653\n",
      "Iteration 8: 0.632653\n",
      "Iteration 10: 0.632653\n",
      "FINAL: 0.632653\n"
     ]
    }
   ],
   "source": [
    "# Run optimization\n",
    "\n",
    "n = len(data[0])\n",
    "\n",
    "layers = 1\n",
    "shots = 1000   #shots per run of given circuit; larger will give better statistics from runs\n",
    "\n",
    "initial = np.random.uniform(0, 2*pi, size=2*n*layers)\n",
    "\n",
    "best = PSO(n, data, y, costFunc, initial, num_particles=5, maxiter=10).best()"
   ]
  },
  {
   "cell_type": "code",
   "execution_count": 45,
   "metadata": {},
   "outputs": [
    {
     "name": "stdout",
     "output_type": "stream",
     "text": [
      "Accuracy: 0.904762\n"
     ]
    }
   ],
   "source": [
    "from sklearn.svm import LinearSVC \n",
    "\n",
    "labels = y[:, 0]\n",
    "\n",
    "labels = labels.astype('int')\n",
    "\n",
    "svm = LinearSVC(C=1, loss=\"hinge\")\n",
    "svm.fit(data, labels)\n",
    "\n",
    "predictions = svm.predict(data)\n",
    "accuracy = sum(predictions == labels)/len(predictions)\n",
    "print('Accuracy: %f' %accuracy)"
   ]
  },
  {
   "cell_type": "code",
   "execution_count": 44,
   "metadata": {},
   "outputs": [
    {
     "data": {
      "text/plain": [
       "numpy.ndarray"
      ]
     },
     "execution_count": 44,
     "metadata": {},
     "output_type": "execute_result"
    }
   ],
   "source": [
    "type(labels)"
   ]
  },
  {
   "cell_type": "code",
   "execution_count": 36,
   "metadata": {},
   "outputs": [
    {
     "data": {
      "text/plain": [
       "['00']"
      ]
     },
     "execution_count": 36,
     "metadata": {},
     "output_type": "execute_result"
    }
   ],
   "source": [
    "n = 2\n",
    "q = QuantumRegister(n)                  #can these be initialized outside the function?\n",
    "c = ClassicalRegister(n)\n",
    "circ = QuantumCircuit(q, c)\n",
    "    \n",
    "circ.x(q[0])\n",
    "circ.x(q[1])\n",
    "circ.measure(q[0], c[0])\n",
    "circ.measure(q[1], c[1])\n",
    "\n",
    "circ.reset(q)\n",
    "circ.measure(q[0], c[0])\n",
    "circ.measure(q[1], c[1])\n",
    "\n",
    "\n",
    "result = execute(circ, backend = backend, shots = 1, memory = True)\n",
    "output = result.result().get_memory(circ)\n",
    "output"
   ]
  },
  {
   "cell_type": "code",
   "execution_count": null,
   "metadata": {},
   "outputs": [],
   "source": [
    "output"
   ]
  },
  {
   "cell_type": "code",
   "execution_count": null,
   "metadata": {},
   "outputs": [],
   "source": [
    "initial = np.random.normal(size=2*n*layers)"
   ]
  },
  {
   "cell_type": "code",
   "execution_count": null,
   "metadata": {},
   "outputs": [],
   "source": [
    "output = run_circuit(n, initial, data[0])\n",
    "output"
   ]
  },
  {
   "cell_type": "code",
   "execution_count": 14,
   "metadata": {},
   "outputs": [
    {
     "data": {
      "text/plain": [
       "54"
      ]
     },
     "execution_count": 14,
     "metadata": {},
     "output_type": "execute_result"
    }
   ],
   "source": [
    "sum(y[:,0])"
   ]
  },
  {
   "cell_type": "code",
   "execution_count": null,
   "metadata": {},
   "outputs": [],
   "source": []
  }
 ],
 "metadata": {
  "kernelspec": {
   "display_name": "Python [conda env:qiskit] *",
   "language": "python",
   "name": "conda-env-qiskit-py"
  },
  "language_info": {
   "codemirror_mode": {
    "name": "ipython",
    "version": 3
   },
   "file_extension": ".py",
   "mimetype": "text/x-python",
   "name": "python",
   "nbconvert_exporter": "python",
   "pygments_lexer": "ipython3",
   "version": "3.7.4"
  }
 },
 "nbformat": 4,
 "nbformat_minor": 2
}
